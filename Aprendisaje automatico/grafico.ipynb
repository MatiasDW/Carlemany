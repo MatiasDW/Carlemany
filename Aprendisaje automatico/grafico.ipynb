{
 "cells": [
  {
   "cell_type": "code",
   "execution_count": 1,
   "metadata": {},
   "outputs": [
    {
     "ename": "SyntaxError",
     "evalue": "invalid syntax (265638620.py, line 12)",
     "output_type": "error",
     "traceback": [
      "\u001b[1;36m  Cell \u001b[1;32mIn[1], line 12\u001b[1;36m\u001b[0m\n\u001b[1;33m    precision en datos entrenamiento: 1.000\u001b[0m\n\u001b[1;37m              ^\u001b[0m\n\u001b[1;31mSyntaxError\u001b[0m\u001b[1;31m:\u001b[0m invalid syntax\n"
     ]
    }
   ],
   "source": [
    "from sklearn.tree import DecisionTreeClassifier\n",
    "from sklearn.model_selection import train_test_split\n",
    "\n",
    "cancer = load_breast_cancer()\n",
    "X_train, X_test, Y_train, Y_test = train_test_split(cancer.data, cancer.target, stratify=cancer.target, random_state=42)\n",
    "tree = DecisionTreeClassifier(random_state=0)\n",
    "tree.fit(X_train, Y_train)\n",
    "\n",
    "print(\"Precision en datos entrenamiento: {:.3f}\".format(tree.score(X_train, Y_train)))\n",
    "print(\"Precision en datos de test: {:.3f}\".format(tree.score(X_test, Y_test)))\n",
    "\n",
    "precision en datos entrenamiento: 1.000\n",
    "precision en datos de test: 0.937\n",
    "\n",
    "tree = DecisionTreeClassifier(max_depth=4, random_state=0)\n",
    "tree.fit(X_train, Y_train)\n",
    "print(\"Precision en datos entrenamiento: {:.3f}\".format(tree.score(X_train, Y_train)))\n",
    "print(\"Precision en datos de test: {:.3f}\".format(tree.score(X_test, Y_test)))\n",
    "\n",
    "precision en datos entrenamiento: 0.988\n",
    "precision en datos de test: 0.951\n",
    "\n",
    "from sklearn.tree import export_graphviz\n",
    "\n",
    "export_graphviz(tree, out_file=\"tree.dot\", class_names=[\"malignant\", \"bening\"],\n",
    "feature_names=cancer.feature_names, impurity=False, filled=True)\n",
    "import graphviz\n",
    "with open(\"tree.dot\") as f:\n",
    "    dot_graph = f.read()\n",
    "graphviz.Source(dot_graph)\n",
    "\n",
    "import matplotlib.pyplot as plt\n",
    "\n",
    "def plot_features_importances_cancer(model):\n",
    "    n_features = cancer.data.shape[1]\n",
    "    plt.brah(range(n_features), model.feature_importances_, align=\"center\")\n",
    "    plt.yticks(np.arange(n_features), cancer.feature_names)\n",
    "    plt.xlabel(\"Importancia de la caracteristica\")\n",
    "    plt.ylabel(\"Caracteristica\")\n",
    "\n",
    "plot_features_importances_cancer(tree)"
   ]
  }
 ],
 "metadata": {
  "kernelspec": {
   "display_name": "Python 3",
   "language": "python",
   "name": "python3"
  },
  "language_info": {
   "codemirror_mode": {
    "name": "ipython",
    "version": 3
   },
   "file_extension": ".py",
   "mimetype": "text/x-python",
   "name": "python",
   "nbconvert_exporter": "python",
   "pygments_lexer": "ipython3",
   "version": "3.11.7"
  },
  "orig_nbformat": 4
 },
 "nbformat": 4,
 "nbformat_minor": 2
}
