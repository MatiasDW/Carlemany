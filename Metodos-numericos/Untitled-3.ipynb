{
 "cells": [
  {
   "cell_type": "code",
   "execution_count": 6,
   "metadata": {},
   "outputs": [
    {
     "name": "stderr",
     "output_type": "stream",
     "text": [
      "C:\\Users\\Matias Davila\\AppData\\Local\\Temp\\ipykernel_26708\\1680779487.py:13: RuntimeWarning: overflow encountered in scalar divide\n",
      "  x[i] = (b[i] - np.dot(A[i, :i], x[:i]) - np.dot(A[i, i+1:], x_old[i+1:])) / A[i, i]\n"
     ]
    },
    {
     "ename": "ValueError",
     "evalue": "El método de Gauss-Seidel no converge en el número máximo de iteraciones",
     "output_type": "error",
     "traceback": [
      "\u001b[1;31m---------------------------------------------------------------------------\u001b[0m",
      "\u001b[1;31mValueError\u001b[0m                                Traceback (most recent call last)",
      "\u001b[1;32mUntitled-3.ipynb Cell 1\u001b[0m line \u001b[0;36m3\n\u001b[0;32m     <a href='vscode-notebook-cell:Untitled-3.ipynb?jupyter-notebook#W0sdW50aXRsZWQ%3D?line=27'>28</a>\u001b[0m Rh \u001b[39m=\u001b[39m q \u001b[39m*\u001b[39m x_aprox \u001b[39m*\u001b[39m (x_aprox \u001b[39m-\u001b[39m l) \u001b[39m*\u001b[39m h\u001b[39m*\u001b[39m\u001b[39m*\u001b[39m\u001b[39m2\u001b[39m \u001b[39m/\u001b[39m (\u001b[39m2\u001b[39m \u001b[39m*\u001b[39m E \u001b[39m*\u001b[39m I)\n\u001b[0;32m     <a href='vscode-notebook-cell:Untitled-3.ipynb?jupyter-notebook#W0sdW50aXRsZWQ%3D?line=29'>30</a>\u001b[0m \u001b[39m# Función de Gauss-Seidel adaptada aquí\u001b[39;00m\n\u001b[0;32m     <a href='vscode-notebook-cell:Untitled-3.ipynb?jupyter-notebook#W0sdW50aXRsZWQ%3D?line=30'>31</a>\u001b[0m \n\u001b[0;32m     <a href='vscode-notebook-cell:Untitled-3.ipynb?jupyter-notebook#W0sdW50aXRsZWQ%3D?line=31'>32</a>\u001b[0m \u001b[39m# Calcula la solución aproximada\u001b[39;00m\n\u001b[1;32m---> <a href='vscode-notebook-cell:Untitled-3.ipynb?jupyter-notebook#W0sdW50aXRsZWQ%3D?line=32'>33</a>\u001b[0m solucion \u001b[39m=\u001b[39m gauss_seidel(Ah, Rh)  \u001b[39m# Asegúrate de que la función gauss_seidel esté definida\u001b[39;00m\n\u001b[0;32m     <a href='vscode-notebook-cell:Untitled-3.ipynb?jupyter-notebook#W0sdW50aXRsZWQ%3D?line=34'>35</a>\u001b[0m \u001b[39m# Evaluar la solución exacta\u001b[39;00m\n\u001b[0;32m     <a href='vscode-notebook-cell:Untitled-3.ipynb?jupyter-notebook#W0sdW50aXRsZWQ%3D?line=35'>36</a>\u001b[0m x \u001b[39m=\u001b[39m np\u001b[39m.\u001b[39mlinspace(\u001b[39m0\u001b[39m, l, num\u001b[39m=\u001b[39m\u001b[39m1200\u001b[39m)\n",
      "\u001b[1;32mUntitled-3.ipynb Cell 1\u001b[0m line \u001b[0;36m1\n\u001b[0;32m     <a href='vscode-notebook-cell:Untitled-3.ipynb?jupyter-notebook#W0sdW50aXRsZWQ%3D?line=14'>15</a>\u001b[0m     \u001b[39mif\u001b[39;00m np\u001b[39m.\u001b[39mlinalg\u001b[39m.\u001b[39mnorm(x \u001b[39m-\u001b[39m x_old, np\u001b[39m.\u001b[39minf) \u001b[39m<\u001b[39m tol:\n\u001b[0;32m     <a href='vscode-notebook-cell:Untitled-3.ipynb?jupyter-notebook#W0sdW50aXRsZWQ%3D?line=15'>16</a>\u001b[0m         \u001b[39mreturn\u001b[39;00m x\n\u001b[1;32m---> <a href='vscode-notebook-cell:Untitled-3.ipynb?jupyter-notebook#W0sdW50aXRsZWQ%3D?line=17'>18</a>\u001b[0m \u001b[39mraise\u001b[39;00m \u001b[39mValueError\u001b[39;00m(\u001b[39m\"\u001b[39m\u001b[39mEl método de Gauss-Seidel no converge en el número máximo de iteraciones\u001b[39m\u001b[39m\"\u001b[39m)\n",
      "\u001b[1;31mValueError\u001b[0m: El método de Gauss-Seidel no converge en el número máximo de iteraciones"
     ]
    }
   ],
   "source": [
    "import numpy as np\n",
    "import matplotlib.pyplot as plt\n",
    "# Función para la solución exacta\n",
    "def solucion_exacta(x, c1, c2, a, b, c, l):\n",
    "    return c1 * np.exp(a * x) + c2 * np.exp(-a * x) + b * (x - l) * x + c\n",
    "# Parámetros de la viga y de la solución exacta\n",
    "l = 120  # longitud en pulgadas\n",
    "q = 100  # carga en lb/ft\n",
    "E = 3e7  # módulo de elasticidad en lb/in^2\n",
    "S = 1000 # tensión en lb\n",
    "I = 625  # momento de inercia en in^4\n",
    "h = 0.1  # tamaño del paso en pulgadas\n",
    "c1 = 7.7042537e4\n",
    "c2 = 7.9207462e4\n",
    "a = 2.3094010e-4\n",
    "b = -4.1666666e-3\n",
    "c = -1.56249999e5\n",
    "\n",
    "# Generar la matriz Ah y el vector Rh\n",
    "n = int(l / h) - 1\n",
    "diagonal = np.full(n, -2 * S * h**2 / E / I)\n",
    "off_diagonal = np.ones(n - 1)\n",
    "Ah = np.diag(diagonal) + np.diag(off_diagonal, k=1) + np.diag(off_diagonal, k=-1)\n",
    "x_aprox = np.linspace(h, l - h, n)\n",
    "Rh = q * x_aprox * (x_aprox - l) * h**2 / (2 * E * I)\n",
    "# Calcula la solución aproximada\n",
    "solucion = gauss_seidel(Ah, Rh)  # Asegúrate de que la función gauss_seidel esté definida\n",
    "# Evaluar la solución exacta\n",
    "x = np.linspace(0, l, num=1200)\n",
    "solucion_ex = solucion_exacta(x, c1, c2, a, b, c, l)\n",
    "# Interpolar la solución aproximada para los mismos puntos x\n",
    "solucion_aprox = np.interp(x, x_aprox, solucion)\n",
    "# Cálculo del error\n",
    "error = solucion_ex - solucion_aprox\n",
    "error_maximo = np.max(np.abs(error))\n",
    "# Graficar las soluciones y el error\n",
    "plt.figure(figsize=(12, 6))\n",
    "plt.subplot(2, 1, 1)\n",
    "plt.plot(x, solucion_ex, label=\"Solución Exacta\")\n",
    "plt.plot(x, solucion_aprox, label=\"Solución Aproximada\", linestyle='--')\n",
    "plt.title(\"Comparación de Soluciones\")\n",
    "plt.xlabel(\"x\")\n",
    "plt.ylabel(\"ω(x)\")\n",
    "plt.legend()\n",
    "plt.subplot(2, 1, 2)\n",
    "plt.plot(x, error)\n",
    "plt.title(\"Error (Exacta - Aproximada)\")\n",
    "plt.xlabel(\"x\")\n",
    "plt.ylabel(\"Error\")\n",
    "plt.tight_layout()\n",
    "plt.show()\n",
    "print(f\"Error máximo: {error_maximo}\")\n"
   ]
  }
 ],
 "metadata": {
  "kernelspec": {
   "display_name": "Python 3",
   "language": "python",
   "name": "python3"
  },
  "language_info": {
   "codemirror_mode": {
    "name": "ipython",
    "version": 3
   },
   "file_extension": ".py",
   "mimetype": "text/x-python",
   "name": "python",
   "nbconvert_exporter": "python",
   "pygments_lexer": "ipython3",
   "version": "3.9.0"
  }
 },
 "nbformat": 4,
 "nbformat_minor": 2
}
