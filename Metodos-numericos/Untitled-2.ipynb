{
 "cells": [
  {
   "cell_type": "code",
   "execution_count": 1,
   "metadata": {},
   "outputs": [
    {
     "name": "stdout",
     "output_type": "stream",
     "text": [
      "Solución del sistema: [ -0.95238095  -6.           5.38095238 -13.0952381 ]\n"
     ]
    }
   ],
   "source": [
    "import numpy as np\n",
    "\n",
    "def pivoteo_maximal(A, b):\n",
    "    n = len(A)\n",
    "    for i in range(n):\n",
    "        # Encontrar el máximo elemento en la columna actual\n",
    "        max_index = np.argmax(abs(A[i:n, i])) + i\n",
    "        \n",
    "        # Intercambiar filas en A y b\n",
    "        A[[i, max_index]] = A[[max_index, i]]\n",
    "        b[[i, max_index]] = b[[max_index, i]]\n",
    "\n",
    "        # Verificar si el elemento diagonal es cero\n",
    "        if A[i, i] == 0:\n",
    "            raise ValueError(\"La matriz es singular o casi singular.\")\n",
    "\n",
    "        # Eliminación de Gauss\n",
    "        for j in range(i+1, n):\n",
    "            factor = A[j, i] / A[i, i]\n",
    "            A[j, i:] -= factor * A[i, i:]\n",
    "            b[j] -= factor * b[i]\n",
    "\n",
    "    # Resolución hacia atrás\n",
    "    x = np.zeros(n)\n",
    "    for i in range(n - 1, -1, -1):\n",
    "        x[i] = (b[i] - np.dot(A[i, i+1:], x[i+1:])) / A[i, i]\n",
    "    return x\n",
    "\n",
    "# Ejemplo de uso\n",
    "A = np.array([[1, -2, 3, 2],\n",
    "              [2, 5, -1, -3],\n",
    "              [2, -3, 0, 1],\n",
    "              [-1, 0, 3, 1]], dtype=float)\n",
    "b = np.array([1, 2, 3, 4], dtype=float)  # Debes definir el vector b según tu problema\n",
    "\n",
    "x = pivoteo_maximal(A, b)\n",
    "print(\"Solución del sistema:\", x)\n"
   ]
  }
 ],
 "metadata": {
  "kernelspec": {
   "display_name": "Python 3",
   "language": "python",
   "name": "python3"
  },
  "language_info": {
   "codemirror_mode": {
    "name": "ipython",
    "version": 3
   },
   "file_extension": ".py",
   "mimetype": "text/x-python",
   "name": "python",
   "nbconvert_exporter": "python",
   "pygments_lexer": "ipython3",
   "version": "3.9.0"
  }
 },
 "nbformat": 4,
 "nbformat_minor": 2
}
