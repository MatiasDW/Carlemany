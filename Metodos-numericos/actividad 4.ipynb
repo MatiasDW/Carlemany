{
 "cells": [
  {
   "cell_type": "code",
   "execution_count": 1,
   "metadata": {},
   "outputs": [
    {
     "data": {
      "text/plain": [
       "{A1: A3*(2*c**2 - 2) + 4/3, A2: -A3*c**2 + 1/3}"
      ]
     },
     "execution_count": 1,
     "metadata": {},
     "output_type": "execute_result"
    }
   ],
   "source": [
    "from sympy import symbols, integrate, solve\n",
    "\n",
    "# Definiendo las variables y símbolos\n",
    "A1, A2, A3, c = symbols('A1 A2 A3 c')\n",
    "x = symbols('x')\n",
    "\n",
    "# Definiendo los polinomios de grado 0, 1 y 2\n",
    "poly_0 = 1\n",
    "poly_1 = x\n",
    "poly_2 = x**2\n",
    "\n",
    "# Integrando los polinomios en el intervalo [-1, 1]\n",
    "integral_0 = integrate(poly_0, (x, -1, 1))\n",
    "integral_1 = integrate(poly_1, (x, -1, 1))\n",
    "integral_2 = integrate(poly_2, (x, -1, 1))\n",
    "\n",
    "# Ecuaciones basadas en la fórmula de integración dada\n",
    "eq_0 = A1 * poly_0 + A2 * 2 * poly_0 + A3 * 2 * poly_0 - integral_0\n",
    "eq_1 = A1 * poly_1.subs(x, 0) + A2 * (poly_1.subs(x, -1) + poly_1.subs(x, 1)) + A3 * (poly_1.subs(x, -c) + poly_1.subs(x, c)) - integral_1\n",
    "eq_2 = A1 * poly_2.subs(x, 0) + A2 * (poly_2.subs(x, -1) + poly_2.subs(x, 1)) + A3 * (poly_2.subs(x, -c) + poly_2.subs(x, c)) - integral_2\n",
    "\n",
    "# Resolviendo el sistema de ecuaciones\n",
    "solution = solve((eq_0, eq_1, eq_2), (A1, A2, A3))\n",
    "\n",
    "solution\n"
   ]
  },
  {
   "cell_type": "code",
   "execution_count": 2,
   "metadata": {},
   "outputs": [
    {
     "name": "stdout",
     "output_type": "stream",
     "text": [
      "Polinomio: 1, Integral Exacta: 1, Integral por Simpson: 1.00000000000000\n",
      "Polinomio: x, Integral Exacta: 1/2, Integral por Simpson: 0.500000000000000\n",
      "Polinomio: x**2, Integral Exacta: 1/3, Integral por Simpson: 0.333333333333333\n",
      "Polinomio: x**3, Integral Exacta: 1/4, Integral por Simpson: 0.250000000000000\n"
     ]
    }
   ],
   "source": [
    "from sympy import symbols, integrate\n",
    "\n",
    "# Definición de la variable simbólica\n",
    "x = symbols('x')\n",
    "\n",
    "# Definición de polinomios de grado 0 a 3\n",
    "polynomials = [x**0, x, x**2, x**3]\n",
    "\n",
    "# Regla de Simpson\n",
    "def simpson_rule(f, a, b):\n",
    "    return (b - a) / 6 * (f.subs(x, a) + 4 * f.subs(x, (a + b) / 2) + f.subs(x, b))\n",
    "\n",
    "# Intervalo de integración [a, b]\n",
    "a, b = 0, 1\n",
    "\n",
    "# Comparación de integración exacta con la regla de Simpson\n",
    "results = []\n",
    "for poly in polynomials:\n",
    "    exact_integral = integrate(poly, (x, a, b))\n",
    "    simpson_integral = simpson_rule(poly, a, b)\n",
    "    results.append((poly, exact_integral, simpson_integral))\n",
    "\n",
    "for poly, exact, simpson in results:\n",
    "    print(f\"Polinomio: {poly}, Integral Exacta: {exact}, Integral por Simpson: {simpson}\")\n"
   ]
  },
  {
   "cell_type": "code",
   "execution_count": 4,
   "metadata": {},
   "outputs": [
    {
     "name": "stdout",
     "output_type": "stream",
     "text": [
      "Coeficientes Cotes n = 1: Matrix([[0.500000000000000], [0.500000000000000]])\n",
      "Coeficientes Cotes n = 2: Matrix([[0.166666666666667], [0.666666666666667], [0.166666666666667]])\n",
      "Coeficientes Cotes n = 3: Matrix([[0.125000000000000], [0.375000000000000], [0.375000000000000], [0.125000000000000]])\n",
      "Coeficientes Cotes n = 4: Matrix([[0.0777777777777778], [0.355555555555555], [0.133333333333334], [0.355555555555555], [0.0777777777777779]])\n",
      "Coeficientes Cotes n = 5: Matrix([[0.0659722222222233], [0.260416666666659], [0.173611111111128], [0.173611111111094], [0.260416666666675], [0.0659722222222207]])\n",
      "Coeficientes Cotes n = 6: Matrix([[0.0488095238095339], [0.257142857142804], [0.0321428571429744], [0.323809523809385], [0.0321428571429507], [0.257142857142823], [0.0488095238095290]])\n",
      "Coeficientes Cotes n = 7: Matrix([[0.0434606481481532], [0.207002314814776], [0.0765625000001065], [0.172974537036889], [0.172974537037154], [0.0765624999999474], [0.207002314814827], [0.0434606481481470]])\n",
      "Coeficientes Cotes n = 8: Matrix([[0.0348853615520678], [0.207689594355984], [-0.0327336860661752], [0.370229276894465], [-0.160141093472796], [0.370229276894780], [-0.0327336860664949], [0.207689594356125], [0.0348853615520439]])\n",
      "Coeficientes Cotes n = 9: Matrix([[0.0318861607138770], [0.175680803574800], [0.0120535714161856], [0.215892857169441], [0.0644866071061074], [0.0644866071768084], [0.215892857121884], [0.0120535714369292], [0.175680803569479], [0.0318861607144887]])\n",
      "Coeficientes Cotes n = 10: Matrix([[0.0268341483605574], [0.177535941437792], [-0.0810435706818322], [0.454946288417254], [-0.435155122881391], [0.713764630686615], [-0.435155122855506], [0.454946288387668], [-0.0810435706652137], [0.177535941432896], [0.0268341483611604]])\n"
     ]
    }
   ],
   "source": [
    "from sympy import Matrix, symbols, integrate, zeros\n",
    "\n",
    "# Definición de la variable simbólica\n",
    "x = symbols('x')\n",
    "\n",
    "# Función para calcular los coeficientes de Cotes\n",
    "def cotes_coefficients(n):\n",
    "    # Puntos equidistantes en el intervalo [0, 1]\n",
    "    points = [i / n for i in range(n + 1)]\n",
    "    \n",
    "    # Sistema de ecuaciones para los coeficientes\n",
    "    A = zeros(n + 1, n + 1)\n",
    "    b = zeros(n + 1, 1)\n",
    "    \n",
    "    for i in range(n + 1):\n",
    "        for j in range(n + 1):\n",
    "            A[i, j] = points[j] ** i\n",
    "        b[i] = integrate(x**i, (x, 0, 1))\n",
    "    \n",
    "    # Resolviendo el sistema\n",
    "    coefficients = A.LUsolve(b)\n",
    "    return coefficients\n",
    "\n",
    "# Calculando los coeficientes para n = 1 a 10\n",
    "cotes_results = {n: cotes_coefficients(n) for n in range(1, 11)}\n",
    "\n",
    "for n, coeffs in cotes_results.items():\n",
    "    print(f\"Coeficientes Cotes n = {n}: {coeffs}\")\n"
   ]
  },
  {
   "cell_type": "code",
   "execution_count": 6,
   "metadata": {},
   "outputs": [
    {
     "name": "stdout",
     "output_type": "stream",
     "text": [
      "Resultados para n = 8:\n",
      "Función: sin(x), Integral Numérica: 0.459697694131579, Integral Exacta: 1 - cos(1), Error: 0.540302305868421 - cos(1)\n",
      "Función: cos(x), Integral Numérica: 0.841470984807382, Integral Exacta: sin(1), Error: -0.841470984807382 + sin(1)\n",
      "Función: exp(x), Integral Numérica: 1.71828182846002, Integral Exacta: -1 + E, Error: 2.71828182846002 - E\n",
      "Función: x**2, Integral Numérica: 0.333333333333333, Integral Exacta: 1/3, Error: 5.55111512312578E-17\n",
      "Función: 1/(x**2 + 1), Integral Numérica: 0.785398168468594, Integral Exacta: pi/4, Error: 0.785398168468594 - pi/4\n",
      "\n",
      "\n",
      "Resultados para n = 9:\n",
      "Función: sin(x), Integral Numérica: 0.459697694131680, Integral Exacta: 1 - cos(1), Error: 0.54030230586832 - cos(1)\n",
      "Función: cos(x), Integral Numérica: 0.841470984807567, Integral Exacta: sin(1), Error: -0.841470984807567 + sin(1)\n",
      "Función: exp(x), Integral Numérica: 1.71828182845967, Integral Exacta: -1 + E, Error: 2.71828182845967 - E\n",
      "Función: x**2, Integral Numérica: 0.333333333333333, Integral Exacta: 1/3, Error: 5.55111512312578E-17\n",
      "Función: 1/(x**2 + 1), Integral Numérica: 0.785398174048373, Integral Exacta: pi/4, Error: 0.785398174048373 - pi/4\n",
      "\n",
      "\n",
      "Resultados para n = 10:\n",
      "Función: sin(x), Integral Numérica: 0.459697694131861, Integral Exacta: 1 - cos(1), Error: -0.540302305868139 + cos(1)\n",
      "Función: cos(x), Integral Numérica: 0.841470984807897, Integral Exacta: sin(1), Error: 0.841470984807897 - sin(1)\n",
      "Función: exp(x), Integral Numérica: 1.71828182845905, Integral Exacta: -1 + E, Error: 2.71828182845905 - E\n",
      "Función: x**2, Integral Numérica: 0.333333333333333, Integral Exacta: 1/3, Error: 5.55111512312578E-17\n",
      "Función: 1/(x**2 + 1), Integral Numérica: 0.785398187477812, Integral Exacta: pi/4, Error: 0.785398187477812 - pi/4\n",
      "\n",
      "\n"
     ]
    }
   ],
   "source": [
    "import numpy as np\n",
    "from sympy import sin, cos, exp, integrate, symbols\n",
    "\n",
    "# Definición de la variable simbólica y la función para calcular los coeficientes de Cotes\n",
    "x = symbols('x')\n",
    "\n",
    "def cotes_coefficients(n):\n",
    "    from sympy import Matrix, integrate, zeros\n",
    "    points = [i / n for i in range(n + 1)]\n",
    "    A = zeros(n + 1, n + 1)\n",
    "    b = zeros(n + 1, 1)\n",
    "    for i in range(n + 1):\n",
    "        for j in range(n + 1):\n",
    "            A[i, j] = points[j] ** i\n",
    "        b[i] = integrate(x**i, (x, 0, 1))\n",
    "    coefficients = A.LUsolve(b)\n",
    "    return coefficients\n",
    "\n",
    "# Función para aplicar la regla de Newton-Cotes\n",
    "def newton_cotes_integration(f, n, a=0, b=1):\n",
    "    coefficients = cotes_coefficients(n)\n",
    "    h = (b - a) / n\n",
    "    points = [a + i * h for i in range(n + 1)]\n",
    "    integral = sum(coeff * f.subs(x, point) for coeff, point in zip(coefficients, points))\n",
    "    return integral * (b - a)\n",
    "\n",
    "# Funciones de prueba\n",
    "test_functions = [sin(x), cos(x), exp(x), x**2, 1 / (1 + x**2)]\n",
    "\n",
    "# Resultados de integración para n = 8, 9, 10\n",
    "integration_results = {}\n",
    "for n in range(8, 11):\n",
    "    results_n = []\n",
    "    for f in test_functions:\n",
    "        numeric_integral = newton_cotes_integration(f, n)\n",
    "        exact_integral = integrate(f, (x, 0, 1))\n",
    "        results_n.append((f, numeric_integral, exact_integral, abs(numeric_integral - exact_integral)))\n",
    "    integration_results[n] = results_n\n",
    "\n",
    "# Mostrar resultados\n",
    "for n in [8, 9, 10]:\n",
    "    print(f\"Resultados para n = {n}:\")\n",
    "    for f, numeric, exact, error in integration_results[n]:\n",
    "        print(f\"Función: {f}, Integral Numérica: {numeric}, Integral Exacta: {exact}, Error: {error}\")\n",
    "    print(\"\\n\")\n"
   ]
  },
  {
   "cell_type": "code",
   "execution_count": 1,
   "metadata": {},
   "outputs": [
    {
     "name": "stdout",
     "output_type": "stream",
     "text": [
      "Integral Aproximada: 0.335000000000000\n",
      "Integral Exacta: 1/3\n",
      "Error Real: 0.00166666666666676\n"
     ]
    }
   ],
   "source": [
    "from sympy import symbols, integrate, Abs\n",
    "\n",
    "# Definiendo la variable simbólica y la función\n",
    "x = symbols('x')\n",
    "f = x**2  # Ejemplo de función, cámbiala según sea necesario\n",
    "\n",
    "# Regla de los trapecios compuesta\n",
    "def trapezoidal_rule(f, a, b, n):\n",
    "    h = (b - a) / n\n",
    "    sum_f = sum(f.subs(x, a + i * h) for i in range(1, n))\n",
    "    return h/2 * (f.subs(x, a) + 2 * sum_f + f.subs(x, b))\n",
    "\n",
    "# Aplicando la regla de los trapecios\n",
    "a, b = 0, 1  # Intervalo de integración\n",
    "n = 10  # Número de subintervalos\n",
    "approx_integral = trapezoidal_rule(f, a, b, n)\n",
    "\n",
    "# Integral exacta\n",
    "exact_integral = integrate(f, (x, a, b))\n",
    "\n",
    "# Error estimado y error real\n",
    "error_real = Abs(exact_integral - approx_integral)\n",
    "\n",
    "# Mostrando los resultados\n",
    "print(f\"Integral Aproximada: {approx_integral}\")\n",
    "print(f\"Integral Exacta: {exact_integral}\")\n",
    "print(f\"Error Real: {error_real}\")\n"
   ]
  },
  {
   "cell_type": "code",
   "execution_count": 2,
   "metadata": {},
   "outputs": [
    {
     "name": "stdout",
     "output_type": "stream",
     "text": [
      "Integral Aproximada (Recursiva): 0.335000000000000\n"
     ]
    }
   ],
   "source": [
    "# Fórmula recursiva para la regla de los trapecios\n",
    "def trapezoidal_rule_recursive(f, a, b, n, previous_value=None):\n",
    "    if n == 1:\n",
    "        return trapezoidal_rule(f, a, b, n)\n",
    "    else:\n",
    "        if previous_value is None:\n",
    "            previous_value = trapezoidal_rule(f, a, b, n // 2)\n",
    "        h = (b - a) / n\n",
    "        sum_f = sum(f.subs(x, a + (2 * i - 1) * h) for i in range(1, n // 2 + 1))\n",
    "        return previous_value / 2 + h * sum_f\n",
    "\n",
    "# Ejemplo de uso de la fórmula recursiva\n",
    "approx_integral_recursive = trapezoidal_rule_recursive(f, a, b, n)\n",
    "print(f\"Integral Aproximada (Recursiva): {approx_integral_recursive}\")\n"
   ]
  },
  {
   "cell_type": "code",
   "execution_count": 3,
   "metadata": {},
   "outputs": [
    {
     "name": "stdout",
     "output_type": "stream",
     "text": [
      "Integral Aproximada (Simpson): 0.333333333333333\n"
     ]
    }
   ],
   "source": [
    "# Regla compuesta de Simpson\n",
    "def simpson_rule(f, a, b, n):\n",
    "    h = (b - a) / n\n",
    "    sum_odd = sum(f.subs(x, a + (2 * i - 1) * h) for i in range(1, n // 2 + 1))\n",
    "    sum_even = sum(f.subs(x, a + 2 * i * h) for i in range(1, n // 2))\n",
    "    return h/3 * (f.subs(x, a) + 4 * sum_odd + 2 * sum_even + f.subs(x, b))\n",
    "\n",
    "# Aplicando la regla de Simpson\n",
    "approx_integral_simpson = simpson_rule(f, a, b, n)\n",
    "print(f\"Integral Aproximada (Simpson): {approx_integral_simpson}\")\n"
   ]
  },
  {
   "cell_type": "code",
   "execution_count": 4,
   "metadata": {},
   "outputs": [
    {
     "name": "stdout",
     "output_type": "stream",
     "text": [
      "Esquema de Romberg:\n",
      " [[0.5        0.         0.         0.        ]\n",
      " [0.375      0.33333333 0.         0.        ]\n",
      " [0.34375    0.33333333 0.33333333 0.        ]\n",
      " [0.3359375  0.33333333 0.33333333 0.33333333]]\n",
      "Integral Aproximada (Romberg): 0.3333333333333333\n"
     ]
    }
   ],
   "source": [
    "import numpy as np\n",
    "\n",
    "def romberg_integration(f, a, b, depth):\n",
    "    R = np.zeros((depth, depth))\n",
    "    for i in range(depth):\n",
    "        n = 2**i\n",
    "        R[i, 0] = trapezoidal_rule(f, a, b, n)\n",
    "        for j in range(1, i + 1):\n",
    "            R[i, j] = R[i, j - 1] + (R[i, j - 1] - R[i - 1, j - 1]) / (4**j - 1)\n",
    "\n",
    "    return R, R[-1, -1]\n",
    "\n",
    "# Aplicando el método de Romberg\n",
    "depth = 4  # Profundidad del esquema de Romberg\n",
    "romberg_matrix, approx_integral_romberg = romberg_integration(f, a, b, depth)\n",
    "\n",
    "print(\"Esquema de Romberg:\\n\", romberg_matrix)\n",
    "print(f\"Integral Aproximada (Romberg): {approx_integral_romberg}\")\n"
   ]
  },
  {
   "cell_type": "code",
   "execution_count": 5,
   "metadata": {},
   "outputs": [
    {
     "name": "stdout",
     "output_type": "stream",
     "text": [
      "Integral Aproximada (Monte Carlo): 0.338282500708546\n"
     ]
    }
   ],
   "source": [
    "def monte_carlo_integration(f, a, b, samples):\n",
    "    random_points = np.random.uniform(a, b, samples)\n",
    "    f_values = [f.subs(x, rp).evalf() for rp in random_points]\n",
    "    average_value = np.mean(f_values)\n",
    "    return average_value * (b - a)\n",
    "\n",
    "# Aplicando el método de Monte Carlo\n",
    "samples = 1000  # Número de muestras\n",
    "approx_integral_monte_carlo = monte_carlo_integration(f, a, b, samples)\n",
    "\n",
    "print(f\"Integral Aproximada (Monte Carlo): {approx_integral_monte_carlo}\")\n"
   ]
  }
 ],
 "metadata": {
  "kernelspec": {
   "display_name": "Python 3",
   "language": "python",
   "name": "python3"
  },
  "language_info": {
   "codemirror_mode": {
    "name": "ipython",
    "version": 3
   },
   "file_extension": ".py",
   "mimetype": "text/x-python",
   "name": "python",
   "nbconvert_exporter": "python",
   "pygments_lexer": "ipython3",
   "version": "3.12.0"
  }
 },
 "nbformat": 4,
 "nbformat_minor": 2
}
