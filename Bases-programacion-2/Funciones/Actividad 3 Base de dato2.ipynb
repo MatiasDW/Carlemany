{
 "cells": [
  {
   "cell_type": "code",
   "execution_count": 1,
   "id": "38d0c243-3726-462e-9768-8381434d3bcc",
   "metadata": {},
   "outputs": [
    {
     "name": "stdout",
     "output_type": "stream",
     "text": [
      "[2, 3, 4]\n",
      "[5, 6, 7]\n"
     ]
    }
   ],
   "source": [
    "class Matriz:\n",
    "    def __init__(self, matriz):\n",
    "        self.matriz = matriz\n",
    "\n",
    "    def __add__(self, other):\n",
    "        # Comprueba si el otro objeto es una instancia de la clase Matriz\n",
    "        if isinstance(other, Matriz):\n",
    "            # Crea una matriz vacía para almacenar el resultado de la suma\n",
    "            result = []\n",
    "            # Recorre las filas de la matriz\n",
    "            for i in range(len(self.matriz)):\n",
    "                # Crea una lista para almacenar los elementos de la fila resultante\n",
    "                row = []\n",
    "                # Recorre los elementos de cada fila\n",
    "                for j in range(len(self.matriz[i])):\n",
    "                    # Realiza la suma de los elementos correspondientes\n",
    "                    element = self.matriz[i][j] + other.matriz[i][j]\n",
    "                    # Agrega el elemento a la fila resultante\n",
    "                    row.append(element)\n",
    "                # Agrega la fila resultante a la matriz resultante\n",
    "                result.append(row)\n",
    "            # Devuelve una nueva instancia de la clase Matriz con la matriz resultante\n",
    "            return Matriz(result)\n",
    "        else:\n",
    "            # Si el otro objeto no es una instancia de la clase Matriz, lanza un ValueError\n",
    "            raise ValueError(\"Ambos operandos deben ser objetos de la clase Matriz\")\n",
    "\n",
    "    def __sub__(self, other):\n",
    "        # Comprueba si el otro objeto es una instancia de la clase Matriz\n",
    "        if isinstance(other, Matriz):\n",
    "            # Crea una matriz vacía para almacenar el resultado de la resta\n",
    "            result = []\n",
    "            # Recorre las filas de la matriz\n",
    "            for i in range(len(self.matriz)):\n",
    "                # Crea una lista para almacenar los elementos de la fila resultante\n",
    "                row = []\n",
    "                # Recorre los elementos de cada fila\n",
    "                for j in range(len(self.matriz[i])):\n",
    "                    # Realiza la resta de los elementos correspondientes\n",
    "                    element = self.matriz[i][j] - other.matriz[i][j]\n",
    "                    # Agrega el elemento a la fila resultante\n",
    "                    row.append(element)\n",
    "                # Agrega la fila resultante a la matriz resultante\n",
    "                result.append(row)\n",
    "            # Devuelve una nueva instancia de la clase Matriz con la matriz resultante\n",
    "            return Matriz(result)\n",
    "        else:\n",
    "            # Si el otro objeto no es una instancia de la clase Matriz, lanza un ValueError\n",
    "            raise ValueError(\"Ambos operandos deben ser objetos de la clase Matriz\")\n",
    "\n",
    "    def __mul__(self, other):\n",
    "        # Comprueba si el otro objeto es una instancia de la clase Matriz\n",
    "        if isinstance(other, Matriz):\n",
    "            # Comprueba si las dimensiones de las matrices son compatibles para la multiplicación\n",
    "            if len(self.matriz[0]) != len(other.matriz):\n",
    "                raise ValueError(\"Las dimensiones de las matrices no son compatibles para la multiplicación\")\n",
    "            # Crea una matriz vacía para almacenar el resultado de la multiplicación\n",
    "            result = []\n",
    "            # Recorre las filas de la primera matriz\n",
    "            for i in range(len(self.matriz)):\n",
    "                # Crea una lista para almacenar los elementos de la fila resultante\n",
    "                row = []\n",
    "                # Recorre los elementos de cada columna de la segunda matriz\n",
    "                for j in range(len(other.matriz[0])):\n",
    "                    # Inicializa el elemento de la fila resultante en 0\n",
    "                    element = 0\n",
    "                    # Recorre los elementos correspondientes de la primera y segunda matriz\n",
    "                    for k in range(len(other.matriz)):\n",
    "                        # Realiza la multiplicación y suma los productos parciales\n",
    "                        element += self.matriz[i][k] * other.matriz[k][j]\n",
    "                    # Agrega el elemento a la fila resultante\n",
    "                    row.append(element)\n",
    "                # Agrega la fila resultante a la matriz resultante\n",
    "                result.append(row)\n",
    "            # Devuelve una nueva instancia de la clase Matriz con la matriz resultante\n",
    "            return Matriz(result)\n",
    "        else:\n",
    "            # Si el otro objeto no es una instancia de la clase Matriz, lanza un ValueError\n",
    "            raise ValueError(\"El segundo operando debe ser un objeto de la clase Matriz\")\n",
    "\n",
    "    def mostrar(self):\n",
    "        # Imprime los elementos de la matriz\n",
    "        for row in self.matriz:\n",
    "            print(row)\n",
    "\n",
    "\n",
    "# Ejemplo de uso\n",
    "matriz1 = Matriz([[1, 2, 3],\n",
    "                  [4, 5, 6]])\n",
    "matriz2 = Matriz([[1, 1, 1],\n",
    "                  [1, 1, 1]])\n",
    "matriz_resultado = matriz1 + matriz2\n",
    "matriz_resultado.mostrar()\n"
   ]
  },
  {
   "cell_type": "code",
   "execution_count": 2,
   "id": "2c9fa0d6-6809-4332-92cf-c2d03378982d",
   "metadata": {},
   "outputs": [
    {
     "name": "stdout",
     "output_type": "stream",
     "text": [
      "Antes de llamar a modificar_valor: 10\n",
      "Dentro de la función: 11\n",
      "Después de llamar a modificar_valor: 10\n",
      "Antes de llamar a modificar_lista: [1, 2, 3]\n",
      "Dentro de la función: [1, 2, 3, 4]\n",
      "Después de llamar a modificar_lista: [1, 2, 3, 4]\n"
     ]
    }
   ],
   "source": [
    "def modificar_valor(valor):\n",
    "    valor += 1\n",
    "    print(\"Dentro de la función:\", valor)\n",
    "\n",
    "def modificar_lista(lista):\n",
    "    lista.append(4)\n",
    "    print(\"Dentro de la función:\", lista)\n",
    "\n",
    "# Paso de parámetros por valor (objeto inmutable)\n",
    "x = 10\n",
    "print(\"Antes de llamar a modificar_valor:\", x)\n",
    "modificar_valor(x)\n",
    "print(\"Después de llamar a modificar_valor:\", x)\n",
    "\n",
    "# Paso de parámetros por referencia (objeto mutable)\n",
    "my_list = [1, 2, 3]\n",
    "print(\"Antes de llamar a modificar_lista:\", my_list)\n",
    "modificar_lista(my_list)\n",
    "print(\"Después de llamar a modificar_lista:\", my_list)\n",
    "\n"
   ]
  },
  {
   "cell_type": "code",
   "execution_count": 3,
   "id": "23211bd2-f9c5-4c10-be85-344b36b1e8ca",
   "metadata": {},
   "outputs": [
    {
     "name": "stdout",
     "output_type": "stream",
     "text": [
      "¡Función ejecutada!\n",
      "Tiempo de inicio: 1688331549.1114285\n",
      "Tiempo de finalización: 1688331551.111596\n",
      "Tiempo total: 2.0001676082611084\n"
     ]
    }
   ],
   "source": [
    "import time\n",
    "\n",
    "def get_time(func):\n",
    "    def wrapper(*args, **kwargs):\n",
    "        start_time = time.time()\n",
    "        result = func(*args, **kwargs)\n",
    "        end_time = time.time()\n",
    "        total_time = end_time - start_time\n",
    "        print(\"Tiempo de inicio:\", start_time)\n",
    "        print(\"Tiempo de finalización:\", end_time)\n",
    "        print(\"Tiempo total:\", total_time)\n",
    "        return result\n",
    "    return wrapper\n",
    "\n",
    "@get_time\n",
    "def mi_funcion():\n",
    "    time.sleep(2)\n",
    "    print(\"¡Función ejecutada!\")\n",
    "\n",
    "mi_funcion()\n"
   ]
  },
  {
   "cell_type": "code",
   "execution_count": null,
   "id": "d6a508b9-743f-4434-a1cd-9d36da8f7a1b",
   "metadata": {},
   "outputs": [],
   "source": []
  }
 ],
 "metadata": {
  "kernelspec": {
   "display_name": "Python 3 (ipykernel)",
   "language": "python",
   "name": "python3"
  },
  "language_info": {
   "codemirror_mode": {
    "name": "ipython",
    "version": 3
   },
   "file_extension": ".py",
   "mimetype": "text/x-python",
   "name": "python",
   "nbconvert_exporter": "python",
   "pygments_lexer": "ipython3",
   "version": "3.10.9"
  }
 },
 "nbformat": 4,
 "nbformat_minor": 5
}
