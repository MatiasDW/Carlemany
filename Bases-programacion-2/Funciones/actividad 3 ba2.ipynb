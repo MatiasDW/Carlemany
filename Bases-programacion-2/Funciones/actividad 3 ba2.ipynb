{
 "cells": [
  {
   "cell_type": "code",
   "execution_count": 1,
   "id": "bda12dae-7d82-47c4-b202-0f277c76f622",
   "metadata": {},
   "outputs": [],
   "source": [
    "class Matriz:\n",
    "    def __init__(self, valores):\n",
    "        self.valores = valores\n",
    "\n",
    "    def __add__(self, otra_matriz):\n",
    "        resultado = []\n",
    "        for fila1, fila2 in zip(self.valores, otra_matriz.valores):\n",
    "            nueva_fila = [x + y for x, y in zip(fila1, fila2)]\n",
    "            resultado.append(nueva_fila)\n",
    "        return Matriz(resultado)\n",
    "\n",
    "    def __sub__(self, otra_matriz):\n",
    "        resultado = []\n",
    "        for fila1, fila2 in zip(self.valores, otra_matriz.valores):\n",
    "            nueva_fila = [x - y for x, y in zip(fila1, fila2)]\n",
    "            resultado.append(nueva_fila)\n",
    "        return Matriz(resultado)\n",
    "\n",
    "    def __mul__(self, otra_matriz):\n",
    "        resultado = []\n",
    "        for i in range(len(self.valores)):\n",
    "            nueva_fila = []\n",
    "            for j in range(len(otra_matriz.valores[0])):\n",
    "                valor = 0\n",
    "                for k in range(len(otra_matriz.valores)):\n",
    "                    valor += self.valores[i][k] * otra_matriz.valores[k][j]\n",
    "                nueva_fila.append(valor)\n",
    "            resultado.append(nueva_fila)\n",
    "        return Matriz(resultado)\n",
    "\n",
    "    def mostrar(self):\n",
    "        for fila in self.valores:\n",
    "            print(fila)\n"
   ]
  },
  {
   "cell_type": "code",
   "execution_count": 2,
   "id": "8aba362a-9db4-4325-80f4-81d8da3f8b08",
   "metadata": {},
   "outputs": [],
   "source": [
    "class ListaPares(list):\n",
    "    def __init__(self, *args, **kwargs):\n",
    "        super().__init__(*args, **kwargs)\n",
    "        self.n_pares = sum(1 for x in self if x % 2 == 0)\n",
    "\n",
    "    def append(self, valor):\n",
    "        super().append(valor)\n",
    "        if valor % 2 == 0:\n",
    "            self.n_pares += 1\n",
    "\n",
    "    def extend(self, valores):\n",
    "        super().extend(valores)\n",
    "        self.n_pares += sum(1 for x in valores if x % 2 == 0)\n",
    "\n",
    "    def insert(self, i, valor):\n",
    "        super().insert(i, valor)\n",
    "        if valor % 2 == 0:\n",
    "            self.n_pares += 1\n",
    "\n",
    "    def remove(self, valor):\n",
    "        super().remove(valor)\n",
    "        if valor % 2 == 0:\n",
    "            self.n_pares -= 1\n",
    "\n",
    "    def pop(self, i=-1):\n",
    "        valor = super().pop(i)\n",
    "        if valor % 2 == 0:\n",
    "            self.n_pares -= 1\n",
    "        return valor\n",
    "\n",
    "    def __setitem__(self, i, valor):\n",
    "        valor_anterior = self[i]\n",
    "        super().__setitem__(i, valor)\n",
    "        if valor_anterior % 2 == 0:\n",
    "            self.n_pares -= 1\n",
    "        if valor % 2 == 0:\n",
    "            self.n_pares += 1\n",
    "\n",
    "    def __delitem__(self, i):\n",
    "        valor = self[i]\n",
    "        super().__delitem__(i)\n",
    "        if valor % 2 == 0:\n",
    "            self.n_pares -= 1\n"
   ]
  },
  {
   "cell_type": "code",
   "execution_count": 3,
   "id": "ae618573-48d1-4323-b27c-01068f7a14f4",
   "metadata": {},
   "outputs": [],
   "source": [
    "import time\n",
    "\n",
    "def get_time(func):\n",
    "    def wrapper(*args, **kwargs):\n",
    "        start = time.time()\n",
    "        print(f\"Start time: {start}\")\n",
    "        result = func(*args, **kwargs)\n",
    "        end = time.time()\n",
    "        print(f\"End time: {end}\")\n",
    "        print(f\"Total time: {end - start}\")\n",
    "        return result\n",
    "    return wrapper\n"
   ]
  },
  {
   "cell_type": "code",
   "execution_count": 4,
   "id": "128ce1a1-1053-4e6a-9066-236dfdf313bc",
   "metadata": {},
   "outputs": [
    {
     "name": "stdout",
     "output_type": "stream",
     "text": [
      "Start time: 1688332358.2393584\n",
      "End time: 1688332358.2792497\n",
      "Total time: 0.03989124298095703\n"
     ]
    }
   ],
   "source": [
    "@get_time\n",
    "def mi_funcion():\n",
    "    for i in range(1000000):\n",
    "        pass\n",
    "\n",
    "mi_funcion()\n"
   ]
  },
  {
   "cell_type": "code",
   "execution_count": null,
   "id": "c8941852-5072-45e1-90ef-46e98f0ca1a9",
   "metadata": {},
   "outputs": [],
   "source": []
  }
 ],
 "metadata": {
  "kernelspec": {
   "display_name": "Python 3 (ipykernel)",
   "language": "python",
   "name": "python3"
  },
  "language_info": {
   "codemirror_mode": {
    "name": "ipython",
    "version": 3
   },
   "file_extension": ".py",
   "mimetype": "text/x-python",
   "name": "python",
   "nbconvert_exporter": "python",
   "pygments_lexer": "ipython3",
   "version": "3.10.9"
  }
 },
 "nbformat": 4,
 "nbformat_minor": 5
}
