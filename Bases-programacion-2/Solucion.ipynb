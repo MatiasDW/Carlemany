{
 "cells": [
  {
   "cell_type": "code",
   "execution_count": null,
   "metadata": {},
   "outputs": [],
   "source": [
    "# No se requieren importaciones adicionales para esta implementación.\n",
    "\n",
    "class TaskManager:\n",
    "    def __init__(self):\n",
    "        self.task_list = []\n",
    "        self.action_stack = []\n",
    "\n",
    "    def add_task(self, task, priority):\n",
    "        self.task_list.append((priority, task))\n",
    "        self.task_list.sort()\n",
    "        self.action_stack.append(('add', (priority, task)))\n",
    "        print(f\"Tarea '{task}' añadida con prioridad {priority}.\")\n",
    "\n",
    "    def remove_task(self):\n",
    "        if self.task_list:\n",
    "            removed_task = self.task_list.pop(0)\n",
    "            self.action_stack.append(('remove', removed_task))\n",
    "            print(f\"Tarea '{removed_task[1]}' eliminada.\")\n",
    "        else:\n",
    "            print(\"No hay tareas para eliminar.\")\n",
    "\n",
    "    def undo_action(self):\n",
    "        if self.action_stack:\n",
    "            action = self.action_stack.pop()\n",
    "            if action[0] == 'add':\n",
    "                self.task_list.remove(action[1])\n",
    "                self.task_list.sort()\n",
    "                print(f\"Deshacer: tarea '{action[1][1]}' eliminada.\")\n",
    "            elif action[0] == 'remove':\n",
    "                self.task_list.append(action[1])\n",
    "                self.task_list.sort()\n",
    "                print(f\"Deshacer: tarea '{action[1][1]}' añadida con prioridad {action[1][0]}.\")\n",
    "        else:\n",
    "            print(\"No hay acciones para deshacer.\")\n",
    "\n",
    "    def view_tasks(self):\n",
    "        if self.task_list:\n",
    "            print(\"Tareas en orden de prioridad:\")\n",
    "            for priority, task in self.task_list:\n",
    "                print(f\"Tarea: {task}, Prioridad: {priority}\")\n",
    "        else:\n",
    "            print(\"No hay tareas.\")\n",
    "\n",
    "# Ejemplo de uso\n",
    "if __name__ == \"__main__\":\n",
    "    tm = TaskManager()\n",
    "    tm.add_task(\"Hacer la compra\", 2)\n",
    "    tm.add_task(\"Llamar al médico\", 1)\n",
    "    tm.view_tasks()\n",
    "    tm.remove_task()\n",
    "    tm.view_tasks()\n",
    "    tm.undo_action()\n",
    "    tm.view_tasks()\n"
   ]
  }
 ],
 "metadata": {
  "kernelspec": {
   "display_name": "Python 3",
   "language": "python",
   "name": "python3"
  },
  "language_info": {
   "name": "python",
   "version": "3.11.7"
  }
 },
 "nbformat": 4,
 "nbformat_minor": 2
}
