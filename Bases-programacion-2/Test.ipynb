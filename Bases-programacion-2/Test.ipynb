{
 "cells": [
  {
   "cell_type": "code",
   "execution_count": null,
   "metadata": {},
   "outputs": [],
   "source": [
    "# No se requieren importaciones adicionales para esta implementación.\n",
    "\n",
    "def test_add_task():\n",
    "    tm = TaskManager()\n",
    "    tm.add_task(\"Hacer la compra\", 2)\n",
    "    assert tm.task_list[0] == (2, \"Hacer la compra\")\n",
    "    print(\"Test añadir tarea pasado.\")\n",
    "\n",
    "def test_remove_task():\n",
    "    tm = TaskManager()\n",
    "    tm.add_task(\"Hacer la compra\", 2)\n",
    "    tm.add_task(\"Llamar al médico\", 1)\n",
    "    tm.remove_task()\n",
    "    assert tm.task_list[0] == (2, \"Hacer la compra\")\n",
    "    print(\"Test eliminar tarea pasado.\")\n",
    "\n",
    "def test_undo_add_task():\n",
    "    tm = TaskManager()\n",
    "    tm.add_task(\"Hacer la compra\", 2)\n",
    "    tm.undo_action()\n",
    "    assert not tm.task_list\n",
    "    print(\"Test deshacer añadir tarea pasado.\")\n",
    "\n",
    "def test_undo_remove_task():\n",
    "    tm = TaskManager()\n",
    "    tm.add_task(\"Hacer la compra\", 2)\n",
    "    tm.add_task(\"Llamar al médico\", 1)\n",
    "    tm.remove_task()\n",
    "    tm.undo_action()\n",
    "    assert tm.task_list[0] == (1, \"Llamar al médico\")\n",
    "    print(\"Test deshacer eliminar tarea pasado.\")\n",
    "\n",
    "if __name__ == \"__main__\":\n",
    "    test_add_task()\n",
    "    test_remove_task()\n",
    "    test_undo_add_task()\n",
    "    test_undo_remove_task()\n"
   ]
  }
 ],
 "metadata": {
  "kernelspec": {
   "display_name": "Python 3",
   "language": "python",
   "name": "python3"
  },
  "language_info": {
   "name": "python",
   "version": "3.11.7"
  }
 },
 "nbformat": 4,
 "nbformat_minor": 2
}
